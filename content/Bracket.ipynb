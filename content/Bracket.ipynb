{
 "cells": [
  {
   "cell_type": "code",
   "execution_count": null,
   "id": "054fdce8",
   "metadata": {
    "vscode": {
     "languageId": "plaintext"
    }
   },
   "outputs": [],
   "source": [
    "import math as m"
   ]
  },
  {
   "cell_type": "code",
   "execution_count": null,
   "id": "ec31981f",
   "metadata": {
    "vscode": {
     "languageId": "plaintext"
    }
   },
   "outputs": [],
   "source": [
    "def generator(team_sizes):\n",
    "\n",
    "    teams=[]\n",
    "    for team, size in enumerate(team_sizes):\n",
    "        teams.extend(names[team] for _ in range(size))\n",
    "\n",
    "    if len(teams) == 0:\n",
    "        return([],[])\n",
    "\n",
    "    R1=[]\n",
    "    \n",
    "    split(teams,R1)\n",
    "\n",
    "    return(R1)"
   ]
  },
  {
   "cell_type": "code",
   "execution_count": null,
   "id": "cf8683af",
   "metadata": {
    "vscode": {
     "languageId": "plaintext"
    }
   },
   "outputs": [],
   "source": [
    "def split(teams,R1,index=0,depth=0):\n",
    "    if len(teams)==0:\n",
    "        return\n",
    "    if len(teams)==1:\n",
    "        R1.extend([[teams[0],'Bye'],depth])\n",
    "        return\n",
    "    if len(teams)==2:\n",
    "        R1.extend([teams,depth])\n",
    "        return\n",
    "    \n",
    "    total = len(teams)\n",
    "    half1_size = total//2\n",
    "\n",
    "    team_counts = {}\n",
    "    for t in teams:\n",
    "        team_counts[t] = team_counts.get(t, 0) + 1\n",
    "\n",
    "    h1 = []\n",
    "    h2 = []\n",
    "\n",
    "    # Distribute each team, ensuring we hit the target half size\n",
    "    for team_num in sorted(team_counts.keys(),key=lambda x:x[1]):\n",
    "        count = team_counts[team_num]\n",
    "        \n",
    "        remaining_h1 = half1_size - len(h1)\n",
    "        remaining_h2 = total - half1_size - len(h2)\n",
    "        \n",
    "        # Try to split evenly, but respect remaining space\n",
    "        ideal_to_h1 = (count + ((team_num.lower()[0].encode()[0] + index) % 2)) // 2\n",
    "    \n",
    "        \n",
    "        # Clamp to available space\n",
    "        to_h1 = min(ideal_to_h1, remaining_h1)\n",
    "        to_h1 = max(to_h1, count - remaining_h2)\n",
    "        \n",
    "        h1.extend([team_num] * to_h1)\n",
    "        h2.extend([team_num] * (count - to_h1))\n",
    "\n",
    "    split(h1,R1,index+1,depth+1)\n",
    "    split(h2,R1,index+2,depth+1)\n"
   ]
  },
  {
   "cell_type": "code",
   "execution_count": null,
   "id": "edd9bbb6",
   "metadata": {
    "vscode": {
     "languageId": "plaintext"
    }
   },
   "outputs": [],
   "source": [
    "names=['Vampires','Witches','Zombies','Teamless']\n",
    "team_sizes=[]\n",
    "\n",
    "\n",
    "team_sizes.append(int(input('How many Vampires are there?:')))\n",
    "team_sizes.append(int(input('How many Witches are there?:')))\n",
    "team_sizes.append(int(input('How many Zombies are there?:')))\n",
    "team_sizes.append(int(input('How many Teamless are there?:')))\n",
    "\n",
    "\n",
    "round1 = generator(team_sizes)\n",
    "round1_size = len(round1)//2\n",
    "\n",
    "bracket_size = m.floor(m.log2(sum(team_sizes)))\n",
    "\n",
    "TR1=[]\n",
    "for e, match in enumerate(round1):\n",
    "\n",
    "    if e%2==1:\n",
    "        if match==bracket_size:\n",
    "            TR1.extend(round1[e-1])\n",
    "        else:\n",
    "            TR1.extend([round1[e-1][0],'bye'])\n",
    "            TR1.extend([round1[e-1][1],'bye'])\n",
    "\n",
    "TR1_size = len(TR1)//2\n",
    "\n",
    "print('')\n",
    "print('Bracket')\n",
    "for i in range (TR1_size):\n",
    "    print(f'Match{i+1}: {TR1[2*i]} vs {TR1[2*i+1]}')\n",
    "\n",
    "print('')\n",
    "input('Press Enter to close')"
   ]
  }
 ],
 "metadata": {
  "language_info": {
   "name": "python"
  }
 },
 "nbformat": 4,
 "nbformat_minor": 5
}
